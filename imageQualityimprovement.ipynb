{
 "cells": [
  {
   "cell_type": "markdown",
   "id": "d1b4c27e-ed39-40f7-937b-09785a6c510b",
   "metadata": {},
   "source": [
    "________\n",
    "COURSE WORK  | Image quality Improvement                                                           | *ID : CSC/19D/4105\n",
    "_________\n"
   ]
  },
  {
   "cell_type": "markdown",
   "id": "94b13bab-bdbf-44b1-bd14-56f650dbac1c",
   "metadata": {},
   "source": [
    "#### * instruction\n",
    "- Using these AI chat tools namely ChatGPT, Perplexity AI and BlackBox AI demonstrate how prompts can be used to design, develop and -deploy a multimedia app on a server. \n",
    "\n",
    "###### Submit both the prompts and the results in chronological order. \n",
    "\n",
    "  "
   ]
  },
  {
   "cell_type": "markdown",
   "id": "79a9a5b0-4d7e-4cbe-9969-1e2e5cdeb68a",
   "metadata": {},
   "source": [
    "# STEP 1 : pROMT 1\n",
    "What is multimedia applications?\n",
    "* note: this help understand the task involve"
   ]
  },
  {
   "cell_type": "markdown",
   "id": "215be90e-9db8-452e-a36d-46994ca4dc5a",
   "metadata": {},
   "source": [
    "# Response \n",
    "\n",
    "\n",
    "Multimedia applications refer to software and technological solutions that integrate various forms of media, such as text, images, audio, video, animations, and interactive content, to create rich, engaging user experiences. These applications are used across diverse fields including education, entertainment, advertising, and communication, enabling users to interact with content in dynamic and immersive ways. Examples include video games, virtual reality environments, e-learning platforms, digital presentations, and social media. The convergence of different media types in these applications enhances the effectiveness of communication and information delivery, making them powerful tools for storytelling, marketing, and learning."
   ]
  },
  {
   "cell_type": "markdown",
   "id": "96409019-4d59-49a6-ba6c-e907dad2b0e7",
   "metadata": {},
   "source": [
    "# STEP 2 : pROMT 2\n",
    "list the 4 use case for multimedia"
   ]
  },
  {
   "cell_type": "markdown",
   "id": "2c00651b-2527-4628-ac2b-fec73b4733fa",
   "metadata": {},
   "source": [
    "# Response \n",
    "\n",
    "\n",
    "\n",
    "Multimedia has a wide range of applications across various fields. Here are four common use cases:\n",
    "\n",
    "Education and E-learning:\n",
    "\n",
    "Multimedia applications in education include interactive e-learning platforms, virtual classrooms, educational videos, simulations, and digital textbooks. These tools make learning more engaging and effective by combining text, images, audio, and interactive content to cater to different learning styles.\n",
    "Entertainment and Media:\n",
    "\n",
    "In the entertainment industry, multimedia is used in video games, movies, music videos, and interactive storytelling. These applications combine graphics, sound, and interactive elements to create immersive experiences for audiences.\n",
    "Advertising and Marketing:\n",
    "\n",
    "Multimedia applications in marketing include digital advertisements, social media campaigns, promotional videos, and interactive websites. These tools help businesses engage with their audience through visually appealing and interactive content, enhancing brand awareness and customer engagement.\n",
    "Communication and Collaboration:\n",
    "\n",
    "Multimedia is used in video conferencing, webinars, virtual meetings, and collaborative tools. These applications facilitate real-time communication and collaboration by integrating video, audio, text, and interactive features, making remote work and virtual teamwork more effective and efficient."
   ]
  },
  {
   "cell_type": "markdown",
   "id": "4fbbee85-3dd4-4309-8bc8-beed3d188ea9",
   "metadata": {},
   "source": [
    "# STEP 3: prompt 3\n",
    "generate a beautiful HTML code that allows me to upload any images using drag and drop on the drop zone, I can click on a button that loads and  improves the picture quality 5x the original can can now click on the improved image to download"
   ]
  },
  {
   "cell_type": "markdown",
   "id": "219762ea-86e8-4ba9-86ac-9b260a39372d",
   "metadata": {},
   "source": [
    "# Response \n",
    "\n",
    "\n",
    "Creating an HTML page that allows image upload, enhances the image quality, and enables downloading the enhanced image involves using HTML, CSS, and JavaScript. Since improving the image quality significantly (e.g., 5x) is complex and typically requires advanced algorithms or machine learning models, we'll assume a basic enhancement for demonstration purposes. For actual high-quality enhancement, you might need to integrate with a backend service or library designed for this purpose.\n",
    "\n",
    "Below is a simple implementation using HTML, CSS, and JavaScript:"
   ]
  },
  {
   "cell_type": "code",
   "execution_count": null,
   "id": "9cc9ff7b-8e8e-4d05-b83b-095383601746",
   "metadata": {},
   "outputs": [],
   "source": [
    "<!DOCTYPE html>\n",
    "<html lang=\"en\">\n",
    "<head>\n",
    "  <meta charset=\"UTF-8\">\n",
    "  <meta name=\"viewport\" content=\"width=device-width, initial-scale=1.0\">\n",
    "  <title>Image Enhancer</title>\n",
    "  <style>\n",
    "    body {\n",
    "      font-family: Arial, sans-serif;\n",
    "      display: flex;\n",
    "      flex-direction: column;\n",
    "      align-items: center;\n",
    "      justify-content: center;\n",
    "      height: 100vh;\n",
    "      margin: 0;\n",
    "      background-color: #f0f0f0;\n",
    "    }\n",
    "    #imageContainer {\n",
    "      margin-top: 20px;\n",
    "      display: flex;\n",
    "      flex-direction: column;\n",
    "      align-items: center;\n",
    "    }\n",
    "    img {\n",
    "      max-width: 100%;\n",
    "      height: auto;\n",
    "      margin: 10px 0;\n",
    "      border: 1px solid #ccc;\n",
    "    }\n",
    "    button {\n",
    "      padding: 10px 20px;\n",
    "      background-color: #007BFF;\n",
    "      color: white;\n",
    "      border: none;\n",
    "      border-radius: 5px;\n",
    "      cursor: pointer;\n",
    "    }\n",
    "    button:hover {\n",
    "      background-color: #0056b3;\n",
    "    }\n",
    "  </style>\n",
    "</head>\n",
    "<body>\n",
    "  <h1>Image Enhancer</h1>\n",
    "  <input type=\"file\" id=\"uploadImage\" accept=\"image/*\">\n",
    "  <button id=\"enhanceButton\" style=\"display:none;\">Enhance Image</button>\n",
    "  <div id=\"imageContainer\"></div>\n",
    "  \n",
    "  <script>\n",
    "    document.getElementById('uploadImage').addEventListener('change', function(event) {\n",
    "      const file = event.target.files[0];\n",
    "      if (file) {\n",
    "        const reader = new FileReader();\n",
    "        reader.onload = function(e) {\n",
    "          const img = document.createElement('img');\n",
    "          img.id = 'originalImage';\n",
    "          img.src = e.target.result;\n",
    "          document.getElementById('imageContainer').innerHTML = '';\n",
    "          document.getElementById('imageContainer').appendChild(img);\n",
    "          document.getElementById('enhanceButton').style.display = 'block';\n",
    "        }\n",
    "        reader.readAsDataURL(file);\n",
    "      }\n",
    "    });\n",
    "\n",
    "    document.getElementById('enhanceButton').addEventListener('click', function() {\n",
    "      const originalImage = document.getElementById('originalImage');\n",
    "      const canvas = document.createElement('canvas');\n",
    "      const ctx = canvas.getContext('2d');\n",
    "      \n",
    "      // Set canvas dimensions to original image dimensions\n",
    "      canvas.width = originalImage.naturalWidth * 2; // Basic enhancement by doubling size\n",
    "      canvas.height = originalImage.naturalHeight * 2;\n",
    "\n",
    "      // Draw the original image onto the canvas\n",
    "      ctx.drawImage(originalImage, 0, 0, canvas.width, canvas.height);\n",
    "\n",
    "      // Create a new image element for the enhanced image\n",
    "      const enhancedImage = document.createElement('img');\n",
    "      enhancedImage.id = 'enhancedImage';\n",
    "      enhancedImage.src = canvas.toDataURL('image/png');\n",
    "      enhancedImage.style.cursor = 'pointer';\n",
    "\n",
    "      // Update the image container\n",
    "      document.getElementById('imageContainer').appendChild(enhancedImage);\n",
    "\n",
    "      // Add click event to download the enhanced image\n",
    "      enhancedImage.addEventListener('click', function() {\n",
    "        const link = document.createElement('a');\n",
    "        link.href = enhancedImage.src;\n",
    "        link.download = 'enhanced_image.png';\n",
    "        link.click();\n",
    "      });\n",
    "    });\n",
    "  </script>\n",
    "</body>\n",
    "</html>\n"
   ]
  },
  {
   "cell_type": "markdown",
   "id": "cade5f95-3f34-4e35-86bf-ea70f0fb5460",
   "metadata": {},
   "source": [
    "In this example:\n",
    "\n",
    "HTML Structure: Includes an image upload input, a button to enhance the image, and a container to display the images.\n",
    "CSS Styling: Basic styles to center the content and style the button and images.\n",
    "JavaScript Logic: Handles image upload, enhances the image by resizing it (simple enhancement for demonstration), and allows downloading the enhanced image."
   ]
  },
  {
   "cell_type": "markdown",
   "id": "7691bb97-88f5-4f8c-9ce6-8120ec3eeba5",
   "metadata": {},
   "source": [
    "# STEP 4 : pROMT 4\n",
    "How can i host this application to be use remotely\n"
   ]
  },
  {
   "cell_type": "markdown",
   "id": "8e5a901e-b540-4f88-89ee-06f003ce16b0",
   "metadata": {},
   "source": [
    "# Response \n",
    "\n",
    "| Hosting Service | Static Content | Custom Domain | SSL Support | Serverless Functions | Continuous Deployment | Bandwidth/Usage Limits |\n",
    "|-----------------|----------------|---------------|-------------|----------------------|-----------------------|------------------------|\n",
    "| GitHub Pages    | Yes            | Yes           | Yes         | No                   | Yes                   | Yes                    |\n",
    "| Netlify         | Yes            | Yes           | Yes         | Yes                  | Yes                   | Yes                    |\n",
    "| Vercel          | Yes            | Yes           | Yes         | Yes                  | Yes                   | Yes                    |\n"
   ]
  },
  {
   "cell_type": "code",
   "execution_count": null,
   "id": "b5be8319-7f4f-433f-ac02-b53f780d3373",
   "metadata": {},
   "outputs": [],
   "source": [
    "# hosted link"
   ]
  }
 ],
 "metadata": {
  "kernelspec": {
   "display_name": "Python 3 (ipykernel)",
   "language": "python",
   "name": "python3"
  },
  "language_info": {
   "codemirror_mode": {
    "name": "ipython",
    "version": 3
   },
   "file_extension": ".py",
   "mimetype": "text/x-python",
   "name": "python",
   "nbconvert_exporter": "python",
   "pygments_lexer": "ipython3",
   "version": "3.11.7"
  }
 },
 "nbformat": 4,
 "nbformat_minor": 5
}
